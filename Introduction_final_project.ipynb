{
 "cells": [
  {
   "cell_type": "markdown",
   "metadata": {},
   "source": [
    "# Introduction/Business Problem"
   ]
  },
  {
   "cell_type": "markdown",
   "metadata": {},
   "source": [
    "Although everybody's taste is different, there is no doubt that everybody loves good food. For me personally, Asian cuisine is my favorite and I love Chinese food in particular. My parents have owned a Chinese restaurant for as long as I can remember. Having grown up in such an environment has made me love the taste and experience of this particular food genre. My parents have been operating for over 20 years and lately it has bothered me that only the people of our small village and its proximity can enjoy my parents' delicious food. I have bigger dreams and want to have a second restaurant opened in a much greater city none other than the capital of the Netherlands: Amsterdam! \n",
    "\n",
    "Of course this is easier said than done but a starting point is the location. Amsterdam is a beautiful city with many great locations and culturally diverse people. The city always feels vibrant and alive and I hope to find a perfect location for a Chinese restaurant. But where does one start?\n",
    "\n",
    "It is common for similar business owners to set up their location near each other. This has the advantage of more customer traction. Therefore, I will use data science tools to explore neighbourhoods, districts and business locations in Amsterdam to find out where these businesses are commonly located. By doing so, not only those looking to open up a Chinese restaurant in Amsterdam can be helped, but also other business owners. Let's hope I can find the perfect location soon!f"
   ]
  },
  {
   "cell_type": "markdown",
   "metadata": {},
   "source": [
    "# Data "
   ]
  },
  {
   "cell_type": "markdown",
   "metadata": {},
   "source": [
    "I order to perform my analysis, I need to get geographical location data from Amsterdam. To generate this data, the following sources will be used:\n",
    "\n",
    "First: ClairCity Data Portal. This is a website that contains a detailed dataset of Amsterdam  with information on its Neighbourhoods, coordinates and population.\n",
    "\n",
    "Second: Foursquare API service. This will be used to extract information about businesses in Amsterdam. Address details, tips, comments will be extracted. A new dataset will be created consisting of the most common neighbourhoods, districts, locations and the coordinates. A machine learning algorithm will be applied to group the neighbourhoods based on business activity and the results will be visualised by plotting them on a map using Folium."
   ]
  },
  {
   "cell_type": "code",
   "execution_count": null,
   "metadata": {},
   "outputs": [],
   "source": []
  }
 ],
 "metadata": {
  "kernelspec": {
   "display_name": "Python 3",
   "language": "python",
   "name": "python3"
  },
  "language_info": {
   "codemirror_mode": {
    "name": "ipython",
    "version": 3
   },
   "file_extension": ".py",
   "mimetype": "text/x-python",
   "name": "python",
   "nbconvert_exporter": "python",
   "pygments_lexer": "ipython3",
   "version": "3.7.4"
  }
 },
 "nbformat": 4,
 "nbformat_minor": 2
}
