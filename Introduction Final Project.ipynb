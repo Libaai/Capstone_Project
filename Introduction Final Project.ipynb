{
 "cells": [
  {
   "cell_type": "markdown",
   "metadata": {},
   "source": [
    "# Introduction/Business problem"
   ]
  },
  {
   "cell_type": "markdown",
   "metadata": {},
   "source": [
    "How does one choose a good business location? One common choice that business owners make is to locate themselves near similar businesses for more customer traffic. But how do we identify which businesses are similar and where are these businesses located? This analysis aims to solve this question for the city of Amersfoort located in the Netherlands. Entrepreneurs looking to settle in this beautiful and historic city can use these results to choose a strategic location for their business to start!"
   ]
  },
  {
   "cell_type": "markdown",
   "metadata": {},
   "source": [
    "# Data"
   ]
  },
  {
   "cell_type": "markdown",
   "metadata": {},
   "source": [
    "To perform the analysis, data needs to be collected and tools will be utilized to extract, clean and analyze data. I will be using the Foursquare API service to extract information about Amersfoort's businesses and locations. Addresses, tips, comments and photos will be gathered using this service"
   ]
  }
 ],
 "metadata": {
  "kernelspec": {
   "display_name": "Python 3",
   "language": "python",
   "name": "python3"
  },
  "language_info": {
   "codemirror_mode": {
    "name": "ipython",
    "version": 3
   },
   "file_extension": ".py",
   "mimetype": "text/x-python",
   "name": "python",
   "nbconvert_exporter": "python",
   "pygments_lexer": "ipython3",
   "version": "3.7.4"
  }
 },
 "nbformat": 4,
 "nbformat_minor": 2
}
